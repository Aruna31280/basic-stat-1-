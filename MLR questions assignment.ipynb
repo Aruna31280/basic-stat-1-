{
 "cells": [
  {
   "cell_type": "code",
   "execution_count": null,
   "id": "c522a2db-b9b2-4ef5-9cfc-f35e80bd4d93",
   "metadata": {},
   "outputs": [],
   "source": [
    "                                         MULTIPLE LINEAR REGRESSION ASSIGNMENT"
   ]
  },
  {
   "cell_type": "code",
   "execution_count": null,
   "id": "3258fde6-462f-45ca-8726-6602d766676b",
   "metadata": {},
   "outputs": [],
   "source": [
    "interview questions"
   ]
  },
  {
   "cell_type": "code",
   "execution_count": null,
   "id": "66949ef9-923b-4b29-9738-4f952ecd270c",
   "metadata": {},
   "outputs": [],
   "source": [
    "NORMALIZATION:data to a fixed range,(0,1)(-1,1)\n",
    "it is used in neural networks,no significant outliers are present,\n",
    "it is based on min and max values\n",
    "it is sensitive to outliers\n",
    "formula(min-max scaling)\n",
    "it has features indifferent scaleslike salary in lakhs,knn,neural networks"
   ]
  },
  {
   "cell_type": "markdown",
   "id": "9d0165a0-4252-49ec-a8ac-808e1d95ab2a",
   "metadata": {},
   "source": [
    "\n",
    "\n",
    "Normalization  formula\n",
    "X_min = X.min()\n",
    "\n",
    "\n",
    "X_max = X.max()\n",
    "\n",
    "\n"
   ]
  },
  {
   "cell_type": "markdown",
   "id": "0a8213e6-df46-443a-ac29-ab635d882288",
   "metadata": {},
   "source": [
    "\n",
    "\n",
    "Normalization\n",
    "\n",
    "X_norm = (X - X_min) / (X_max - X_min)\n",
    "\n"
   ]
  },
  {
   "cell_type": "code",
   "execution_count": null,
   "id": "06158b1e-3574-4d01-a19a-a5c1ed6bdaf3",
   "metadata": {},
   "outputs": [],
   "source": [
    "STANDARDIZATION:data have meanof 0 and standard deviation(sd) of 1\n",
    "it is used in logistic regression,linear regression\n",
    "less sensitive,it understand far values from mean in sd\n",
    "normally distributed in ml models\n",
    "algorithms in feature distribution and variance\n"
   ]
  },
  {
   "cell_type": "markdown",
   "id": "94fcb8cf-0bc8-484d-9c76-3b919de0ee41",
   "metadata": {},
   "source": [
    "\n",
    "\n",
    " mean and standard \n",
    "\n",
    "mean = X.mean()\n",
    "\n",
    "std = X.std()\n"
   ]
  },
  {
   "cell_type": "markdown",
   "id": "b3143be4-8acd-4311-a219-9b6d274bbafc",
   "metadata": {},
   "source": [
    "\n",
    "\n",
    " Standardization formula\n",
    "\n",
    "X_std = (X - mean) / std\n",
    "\n",
    "\n"
   ]
  },
  {
   "cell_type": "code",
   "execution_count": null,
   "id": "49fea9ec-a098-4cb8-9021-f088ae0614cd",
   "metadata": {},
   "outputs": [],
   "source": [
    "Prevents features with large scales (e.g., income ₹10,00,000 vs. age 25) from dominating smaller-scale features.\n",
    "\n",
    "Improves convergence speed of optimization (gradient descent).\n",
    "\n",
    "Makes model weights comparable and interpretable.\n",
    "\n",
    "Essential for better accuracy in most ML algorithms."
   ]
  },
  {
   "cell_type": "code",
   "execution_count": null,
   "id": "47dfe71a-83e4-4182-aba7-8eff0758c750",
   "metadata": {},
   "outputs": [],
   "source": [
    "MULTICOLLINEARITY IN MULTIPLE LINEAR REGRESSION:\n",
    "mlr used to predict a dependent variable based on values of two or more indeoendent variables"
   ]
  },
  {
   "cell_type": "markdown",
   "id": "cbb8a53e-8591-4346-a71f-d7ef0f903e6c",
   "metadata": {},
   "source": [
    "#Multiple Linear Regression (MLR)\n",
    "\n",
    "The formula for MLR is:\n",
    "\n",
    "$$\n",
    "Y = \\beta_0 + \\beta_1 X_1 + \\beta_2 X_2 + \\dots + \\beta_n X_n + \\epsilon\n",
    "$$\n"
   ]
  },
  {
   "cell_type": "code",
   "execution_count": null,
   "id": "2a07e1a5-f4dc-46a8-a76a-3f19da822025",
   "metadata": {},
   "outputs": [],
   "source": [
    "mlr used in data collection,data visualization and exploration\n",
    "easier to interpret,used in pca \n",
    "evaluating model,understand complex relation between two variables\n"
   ]
  },
  {
   "cell_type": "code",
   "execution_count": null,
   "id": "8b35ef32-f4ab-4e72-875a-6e1887a0b736",
   "metadata": {},
   "outputs": [],
   "source": [
    "advantages:it can handle many predictorsmultiple variables on dependent variables\n",
    "disadvantages:linear relationship always not true,sensitive to outliers"
   ]
  },
  {
   "cell_type": "code",
   "execution_count": null,
   "id": "f8d6728b-ce36-47ac-b822-87b779cee688",
   "metadata": {},
   "outputs": [],
   "source": [
    "Conclusion\n",
    "\n",
    "Multiple linear regression extends the principles of simple linear regression to models with multiple predictors,\n",
    "offering a powerful tool for data analysis and prediction in various domains. Understanding its principles."
   ]
  },
  {
   "cell_type": "code",
   "execution_count": null,
   "id": "4a36edd7-b88e-4151-89c0-15df98d05ab0",
   "metadata": {},
   "outputs": [],
   "source": []
  }
 ],
 "metadata": {
  "kernelspec": {
   "display_name": "Python 3 (ipykernel)",
   "language": "python",
   "name": "python3"
  },
  "language_info": {
   "codemirror_mode": {
    "name": "ipython",
    "version": 3
   },
   "file_extension": ".py",
   "mimetype": "text/x-python",
   "name": "python",
   "nbconvert_exporter": "python",
   "pygments_lexer": "ipython3",
   "version": "3.13.5"
  }
 },
 "nbformat": 4,
 "nbformat_minor": 5
}
