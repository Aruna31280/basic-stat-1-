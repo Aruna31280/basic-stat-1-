{
 "cells": [
  {
   "cell_type": "code",
   "execution_count": null,
   "id": "75471b89-6729-40c1-8613-4a2b0aa407ba",
   "metadata": {},
   "outputs": [],
   "source": [
    "                                                   CHI-SQUARE TEST ASSIGNMENT"
   ]
  },
  {
   "cell_type": "code",
   "execution_count": null,
   "id": "7857001a-817f-41e0-830a-1d8bd7b2b4a4",
   "metadata": {},
   "outputs": [],
   "source": [
    "1.HYPOTHESES \n",
    "Null hypotheses,Alternative hypotheses"
   ]
  },
  {
   "cell_type": "code",
   "execution_count": null,
   "id": "622756b5-eae4-467a-9b03-68d857065b30",
   "metadata": {},
   "outputs": [],
   "source": [
    " Null hypotheses(H_o): all group means are equal,threre is no association between the variables for the test of independence"
   ]
  },
  {
   "cell_type": "code",
   "execution_count": null,
   "id": "cefa42b9-aaf8-40a0-a6a2-70f9d558b0a0",
   "metadata": {},
   "outputs": [],
   "source": [
    "Alternative hypotheses(H_1): at least one group mean is different,there is an association between the variables for the test of independence"
   ]
  },
  {
   "cell_type": "markdown",
   "id": "9850f01a-4392-4840-b7d2-310dabd7fb96",
   "metadata": {},
   "source": [
    "2.Chi-Square Statistic(x^2) : sum of squared differences between the observed and expected frequencies,divided by the expected frequencies. \n"
   ]
  },
  {
   "cell_type": "markdown",
   "id": "a27a4cfc-d497-4908-9c9b-a3c47f45d879",
   "metadata": {},
   "source": [
    "The chi-square formula is:\n",
    "\n",
    "$$\n",
    "\\chi^2 = \\sum \\frac{(O_i - E_i)^2}{E_i}\n",
    "$$\n"
   ]
  },
  {
   "cell_type": "code",
   "execution_count": null,
   "id": "46fb3c34-7caa-4806-8bf6-ae316a8874c4",
   "metadata": {},
   "outputs": [],
   "source": [
    "where o = observed frequency\n",
    "E = expected frequency = (row total x column total)\\grand total"
   ]
  },
  {
   "cell_type": "code",
   "execution_count": 10,
   "id": "09bcd9b2-dacd-43ef-9ca4-7485cb35d5da",
   "metadata": {},
   "outputs": [
    {
     "data": {
      "text/html": [
       "<div>\n",
       "<style scoped>\n",
       "    .dataframe tbody tr th:only-of-type {\n",
       "        vertical-align: middle;\n",
       "    }\n",
       "\n",
       "    .dataframe tbody tr th {\n",
       "        vertical-align: top;\n",
       "    }\n",
       "\n",
       "    .dataframe thead th {\n",
       "        text-align: right;\n",
       "    }\n",
       "</style>\n",
       "<table border=\"1\" class=\"dataframe\">\n",
       "  <thead>\n",
       "    <tr style=\"text-align: right;\">\n",
       "      <th></th>\n",
       "      <th>satisfaction</th>\n",
       "      <th>Smart Thermostat</th>\n",
       "      <th>Smart Light</th>\n",
       "      <th>Total</th>\n",
       "    </tr>\n",
       "  </thead>\n",
       "  <tbody>\n",
       "    <tr>\n",
       "      <th>0</th>\n",
       "      <td>Very Satisfied</td>\n",
       "      <td>50</td>\n",
       "      <td>70</td>\n",
       "      <td>120</td>\n",
       "    </tr>\n",
       "    <tr>\n",
       "      <th>1</th>\n",
       "      <td>Satisfied</td>\n",
       "      <td>80</td>\n",
       "      <td>100</td>\n",
       "      <td>180</td>\n",
       "    </tr>\n",
       "    <tr>\n",
       "      <th>2</th>\n",
       "      <td>Neutral</td>\n",
       "      <td>60</td>\n",
       "      <td>90</td>\n",
       "      <td>150</td>\n",
       "    </tr>\n",
       "    <tr>\n",
       "      <th>3</th>\n",
       "      <td>Unsatisfied</td>\n",
       "      <td>30</td>\n",
       "      <td>50</td>\n",
       "      <td>80</td>\n",
       "    </tr>\n",
       "    <tr>\n",
       "      <th>4</th>\n",
       "      <td>Very Unsatisfied</td>\n",
       "      <td>20</td>\n",
       "      <td>50</td>\n",
       "      <td>70</td>\n",
       "    </tr>\n",
       "    <tr>\n",
       "      <th>5</th>\n",
       "      <td>Total</td>\n",
       "      <td>240</td>\n",
       "      <td>360</td>\n",
       "      <td>600</td>\n",
       "    </tr>\n",
       "  </tbody>\n",
       "</table>\n",
       "</div>"
      ],
      "text/plain": [
       "       satisfaction  Smart Thermostat  Smart Light  Total\n",
       "0    Very Satisfied                50           70    120\n",
       "1         Satisfied                80          100    180\n",
       "2           Neutral                60           90    150\n",
       "3       Unsatisfied                30           50     80\n",
       "4  Very Unsatisfied                20           50     70\n",
       "5             Total               240          360    600"
      ]
     },
     "execution_count": 10,
     "metadata": {},
     "output_type": "execute_result"
    }
   ],
   "source": [
    "import pandas as pd\n",
    "\n",
    "data = {\n",
    "    \"satisfaction\": [\"Very Satisfied\", \"Satisfied\", \"Neutral\", \"Unsatisfied\", \"Very Unsatisfied\"],\n",
    "    \"Smart Thermostat\": [50,80,60,30,20],   \n",
    "    \"Smart Light\": [70,100,90,50,50],\n",
    "    \"Total\": [120,180,150,80,70]\n",
    "    }\n",
    "df = pd.DataFrame(data)\n",
    "df.loc[len(df)] = [\"Total\",240,360,600]\n",
    "df"
   ]
  },
  {
   "cell_type": "code",
   "execution_count": 12,
   "id": "48d8e52c-dbc9-4d3d-984d-9a8badefdc86",
   "metadata": {},
   "outputs": [
    {
     "name": "stdout",
     "output_type": "stream",
     "text": [
      "                  Smart Thermostat  Smart Light\n",
      "Very Satisfied                48.0         72.0\n",
      "Satisfied                     72.0        108.0\n",
      "Neutral                       60.0         90.0\n",
      "Unsatisfied                   32.0         48.0\n",
      "Very Unsatisfied              28.0         42.0\n"
     ]
    }
   ],
   "source": [
    "import numpy as np\n",
    "import pandas as pd\n",
    "\n",
    "observed = np.array([\n",
    "    [50, 70],\n",
    "    [80, 100],\n",
    "    [60, 90],\n",
    "    [30, 50],\n",
    "    [20, 50]\n",
    "])\n",
    "print(pd.DataFrame(expected,\n",
    "    index=[\"Very Satisfied\", \"Satisfied\", \"Neutral\", \"Unsatisfied\", \"Very Unsatisfied\"],\n",
    "    columns=[\"Smart Thermostat\", \"Smart Light\"]))\n"
   ]
  },
  {
   "cell_type": "code",
   "execution_count": 13,
   "id": "30d5fd82-0cf7-4fae-9dc9-439a7f426236",
   "metadata": {},
   "outputs": [
    {
     "name": "stdout",
     "output_type": "stream",
     "text": [
      "Very Satisfied - Thermo: 0.08333333333333333\n",
      "Satisfied - Thermo: 0.8888888888888888\n",
      "Neutral - Thermo: 0.0\n",
      "Unsatisfied - Thermo: 0.125\n",
      "Very Unsatisfied - Thermo: 2.2857142857142856\n",
      "Very Satisfied - Light: 0.05555555555555555\n",
      "Satisfied - Light: 0.5925925925925926\n",
      "Neutral - Light: 0.0\n",
      "Unsatisfied - Light: 0.08333333333333333\n",
      "Very Unsatisfied - Light: 1.5238095238095237\n"
     ]
    }
   ],
   "source": [
    "# Chi-square contributions (Thermostat column)\n",
    "very_satisfied_thermo = (50 - 48)**2 / 48\n",
    "satisfied_thermo = (80 - 72)**2 / 72\n",
    "neutral_thermo = (60 - 60)**2 / 60\n",
    "unsatisfied_thermo = (30 - 32)**2 / 32\n",
    "very_unsatisfied_thermo = (20 - 28)**2 / 28\n",
    "\n",
    "very_satisfied_light = (70 - 72)**2 / 72\n",
    "satisfied_light = (100 - 108)**2 / 108\n",
    "neutral_light = (90 - 90)**2 / 90\n",
    "unsatisfied_light = (50 - 48)**2 / 48\n",
    "very_unsatisfied_light = (50 - 42)**2 / 42\n",
    "\n",
    "print(\"Very Satisfied - Thermo:\", very_satisfied_thermo)\n",
    "print(\"Satisfied - Thermo:\", satisfied_thermo)\n",
    "print(\"Neutral - Thermo:\", neutral_thermo)\n",
    "print(\"Unsatisfied - Thermo:\", unsatisfied_thermo)\n",
    "print(\"Very Unsatisfied - Thermo:\", very_unsatisfied_thermo)\n",
    "\n",
    "print(\"Very Satisfied - Light:\", very_satisfied_light)\n",
    "print(\"Satisfied - Light:\", satisfied_light)\n",
    "print(\"Neutral - Light:\", neutral_light)\n",
    "print(\"Unsatisfied - Light:\", unsatisfied_light)\n",
    "print(\"Very Unsatisfied - Light:\", very_unsatisfied_light)\n",
    "\n",
    "\n"
   ]
  },
  {
   "cell_type": "code",
   "execution_count": 16,
   "id": "9cb49b8e-6f50-4ecf-b1ec-6995b03c2694",
   "metadata": {},
   "outputs": [
    {
     "name": "stdout",
     "output_type": "stream",
     "text": [
      "Chi-square Statistic = 5.638\n"
     ]
    }
   ],
   "source": [
    "chi2 = 0.0833 + 0.0556 + 0.8889 + 0.5926 + 0 + 0 + 0.1250 + 0.0833 + 2.2857 + 1.5238\n",
    "print(\"Chi-square Statistic =\", round(chi2, 3))\n"
   ]
  },
  {
   "cell_type": "code",
   "execution_count": null,
   "id": "e9b105c1-2852-4f80-93a5-a38c25765117",
   "metadata": {},
   "outputs": [],
   "source": [
    "# Determine the Critical Value\n",
    "\n",
    "Significance level: α = 0.05\n",
    "\n",
    "Degrees of freedom = (rows − 1) × (columns − 1) = (5 − 1) × (2 − 1) = 4 × 1 = 4\n",
    "\n",
    "Critical χ² value at df = 4, α = 0.05 = 9.488"
   ]
  },
  {
   "cell_type": "code",
   "execution_count": 22,
   "id": "0bebc60f-a011-49da-83fd-46490ec962c4",
   "metadata": {},
   "outputs": [
    {
     "name": "stdout",
     "output_type": "stream",
     "text": [
      "Critical value at α=0.05 and df=4: 9.488\n"
     ]
    }
   ],
   "source": [
    "#critical value\n",
    "alpha = 0.05   \n",
    "df = 4         \n",
    "critical_value = chi2.ppf(1 - alpha, df)\n",
    "\n",
    "print(\"Critical value at α=0.05 and df=4:\", round(critical_value, 3))\n"
   ]
  },
  {
   "cell_type": "code",
   "execution_count": null,
   "id": "ae0ede71-a295-4491-804e-9c1cc4ff4e72",
   "metadata": {},
   "outputs": [],
   "source": [
    "# make a decision\n",
    "\n",
    "Computed χ² = 5.64\n",
    "\n",
    "Critical χ² = 9.488\n",
    "\n",
    "Since 5.64 < 9.488 → Fail to reject H₀"
   ]
  },
  {
   "cell_type": "code",
   "execution_count": null,
   "id": "5cdc0fe5-b980-4f6b-829f-9ee6b218f37f",
   "metadata": {},
   "outputs": [],
   "source": [
    "conclusion : There is no significant association between the type of smart device purchased (Smart Thermostat vs Smart Light)\n",
    "and customer satisfaction levels. In other words, customer satisfaction does not depend on device type."
   ]
  },
  {
   "cell_type": "code",
   "execution_count": null,
   "id": "5317f483-a8c2-4224-836c-8efe3e60369c",
   "metadata": {},
   "outputs": [],
   "source": []
  },
  {
   "cell_type": "code",
   "execution_count": null,
   "id": "30650bec-9246-42a9-908b-47d1525cdfcb",
   "metadata": {},
   "outputs": [],
   "source": []
  }
 ],
 "metadata": {
  "kernelspec": {
   "display_name": "Python (anaconda1)",
   "language": "python",
   "name": "anaconda1"
  },
  "language_info": {
   "codemirror_mode": {
    "name": "ipython",
    "version": 3
   },
   "file_extension": ".py",
   "mimetype": "text/x-python",
   "name": "python",
   "nbconvert_exporter": "python",
   "pygments_lexer": "ipython3",
   "version": "3.12.7"
  }
 },
 "nbformat": 4,
 "nbformat_minor": 5
}
