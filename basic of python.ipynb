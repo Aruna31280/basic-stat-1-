{
 "cells": [
  {
   "cell_type": "code",
   "execution_count": null,
   "id": "235302f0-1eed-4cc7-87e4-f0e37ac8c40e",
   "metadata": {},
   "outputs": [],
   "source": [
    "                                          PYTHON PROGRAMMING ASSIGNMENT"
   ]
  },
  {
   "cell_type": "code",
   "execution_count": 6,
   "id": "a419b840-3444-4d42-9b67-7e4fe1982ac9",
   "metadata": {},
   "outputs": [
    {
     "name": "stdin",
     "output_type": "stream",
     "text": [
      "Enter a number:  7\n"
     ]
    },
    {
     "name": "stdout",
     "output_type": "stream",
     "text": [
      "7 is a prime number\n"
     ]
    }
   ],
   "source": [
    "\n",
    "# Prime number \n",
    "\n",
    "num = int(input(\"Enter a number: \"))\n",
    "\n",
    "if num > 1:\n",
    "    for i in range(2, num):\n",
    "        if num % i == 0:\n",
    "            print(num, \"is not a prime number\")\n",
    "            break\n",
    "    else:  \n",
    "        print(num, \"is a prime number\")\n",
    "else:\n",
    "    print(num, \"is not a prime number\")\n",
    "\n",
    "\n"
   ]
  },
  {
   "cell_type": "code",
   "execution_count": 7,
   "id": "431ed74e-075f-4a64-b683-2c2f369df2fd",
   "metadata": {},
   "outputs": [
    {
     "name": "stdin",
     "output_type": "stream",
     "text": [
      "Enter a number:  12\n"
     ]
    },
    {
     "name": "stdout",
     "output_type": "stream",
     "text": [
      "12 is not a prime number\n"
     ]
    }
   ],
   "source": [
    "# Prime number \n",
    "\n",
    "num = int(input(\"Enter a number: \"))\n",
    "\n",
    "if num > 1:\n",
    "    for i in range(2, num):\n",
    "        if num % i == 0:\n",
    "            print(num, \"is not a prime number\")\n",
    "            break\n",
    "    else:  \n",
    "        print(num, \"is a prime number\")\n",
    "else:\n",
    "    print(num, \"is not a prime number\")\n",
    "\n"
   ]
  },
  {
   "cell_type": "code",
   "execution_count": 10,
   "id": "3edff3dd-139e-4ec6-8498-97ef24288ee5",
   "metadata": {},
   "outputs": [
    {
     "name": "stdout",
     "output_type": "stream",
     "text": [
      "What is the product of 5 and 7 ?\n"
     ]
    },
    {
     "name": "stdin",
     "output_type": "stream",
     "text": [
      "Your answer:  35\n"
     ]
    },
    {
     "name": "stdout",
     "output_type": "stream",
     "text": [
      "Correct!\n"
     ]
    }
   ],
   "source": [
    "#product of random numbers\n",
    "\n",
    "import random\n",
    "\n",
    "num1 = random.randint(1, 10)\n",
    "num2 = random.randint(1, 10)\n",
    "\n",
    "print(\"What is the product of\", num1, \"and\", num2, \"?\")\n",
    "user_answer = int(input(\"Your answer: \"))\n",
    "\n",
    "if user_answer == num1 * num2:\n",
    "    print(\"Correct!\")\n",
    "else:\n",
    "    print(\"Wrong. The correct answer is\", num1 * num2)\n"
   ]
  },
  {
   "cell_type": "code",
   "execution_count": 11,
   "id": "1958c914-a725-4dcd-a409-f7483b6e90c9",
   "metadata": {},
   "outputs": [
    {
     "name": "stdout",
     "output_type": "stream",
     "text": [
      "What is the product of 10 and 8 ?\n"
     ]
    },
    {
     "name": "stdin",
     "output_type": "stream",
     "text": [
      "Your answer:  70\n"
     ]
    },
    {
     "name": "stdout",
     "output_type": "stream",
     "text": [
      "Wrong. The correct answer is 80\n"
     ]
    }
   ],
   "source": [
    "import random\n",
    "\n",
    "num1 = random.randint(1, 10)\n",
    "num2 = random.randint(1, 10)\n",
    "\n",
    "print(\"What is the product of\", num1, \"and\", num2, \"?\")\n",
    "user_answer = int(input(\"Your answer: \"))\n",
    "\n",
    "if user_answer == num1 * num2:\n",
    "    print(\"Correct!\")\n",
    "else:\n",
    "    print(\"Wrong. The correct answer is\", num1 * num2)\n"
   ]
  },
  {
   "cell_type": "code",
   "execution_count": 13,
   "id": "a5e8aa36-a34c-4c75-8ea4-4535dd8986d7",
   "metadata": {},
   "outputs": [
    {
     "name": "stdin",
     "output_type": "stream",
     "text": [
      "Do you want 'even' or 'odd' squares?  even\n"
     ]
    },
    {
     "name": "stdout",
     "output_type": "stream",
     "text": [
      "100 squared is 10000\n",
      "102 squared is 10404\n",
      "104 squared is 10816\n",
      "106 squared is 11236\n",
      "108 squared is 11664\n",
      "110 squared is 12100\n",
      "112 squared is 12544\n",
      "114 squared is 12996\n",
      "116 squared is 13456\n",
      "118 squared is 13924\n",
      "120 squared is 14400\n",
      "122 squared is 14884\n",
      "124 squared is 15376\n",
      "126 squared is 15876\n",
      "128 squared is 16384\n",
      "130 squared is 16900\n",
      "132 squared is 17424\n",
      "134 squared is 17956\n",
      "136 squared is 18496\n",
      "138 squared is 19044\n",
      "140 squared is 19600\n",
      "142 squared is 20164\n",
      "144 squared is 20736\n",
      "146 squared is 21316\n",
      "148 squared is 21904\n",
      "150 squared is 22500\n",
      "152 squared is 23104\n",
      "154 squared is 23716\n",
      "156 squared is 24336\n",
      "158 squared is 24964\n",
      "160 squared is 25600\n",
      "162 squared is 26244\n",
      "164 squared is 26896\n",
      "166 squared is 27556\n",
      "168 squared is 28224\n",
      "170 squared is 28900\n",
      "172 squared is 29584\n",
      "174 squared is 30276\n",
      "176 squared is 30976\n",
      "178 squared is 31684\n",
      "180 squared is 32400\n",
      "182 squared is 33124\n",
      "184 squared is 33856\n",
      "186 squared is 34596\n",
      "188 squared is 35344\n",
      "190 squared is 36100\n",
      "192 squared is 36864\n",
      "194 squared is 37636\n",
      "196 squared is 38416\n",
      "198 squared is 39204\n",
      "200 squared is 40000\n"
     ]
    }
   ],
   "source": [
    "#square of evenor odd numbers\n",
    "\n",
    "choice = input(\"Do you want 'even' or 'odd' squares? \").lower()\n",
    "\n",
    "if choice == \"even\":\n",
    "    for i in range(100, 201):\n",
    "        if i % 2 == 0:\n",
    "            print(i, \"squared is\", i**2)\n",
    "\n",
    "elif choice == \"odd\":\n",
    "    for i in range(100, 201):\n",
    "        if i % 2 != 0:\n",
    "            print(i, \"squared is\", i**2)\n",
    "\n",
    "else:\n",
    "    print(\"Invalid choice. Please type 'even' or 'odd'.\")\n"
   ]
  },
  {
   "cell_type": "code",
   "execution_count": 14,
   "id": "7330ff9a-9e36-4346-90b0-4161a1a997e9",
   "metadata": {},
   "outputs": [
    {
     "name": "stdin",
     "output_type": "stream",
     "text": [
      "Do you want 'even' or 'odd' squares?  odd\n"
     ]
    },
    {
     "name": "stdout",
     "output_type": "stream",
     "text": [
      "101 squared is 10201\n",
      "103 squared is 10609\n",
      "105 squared is 11025\n",
      "107 squared is 11449\n",
      "109 squared is 11881\n",
      "111 squared is 12321\n",
      "113 squared is 12769\n",
      "115 squared is 13225\n",
      "117 squared is 13689\n",
      "119 squared is 14161\n",
      "121 squared is 14641\n",
      "123 squared is 15129\n",
      "125 squared is 15625\n",
      "127 squared is 16129\n",
      "129 squared is 16641\n",
      "131 squared is 17161\n",
      "133 squared is 17689\n",
      "135 squared is 18225\n",
      "137 squared is 18769\n",
      "139 squared is 19321\n",
      "141 squared is 19881\n",
      "143 squared is 20449\n",
      "145 squared is 21025\n",
      "147 squared is 21609\n",
      "149 squared is 22201\n",
      "151 squared is 22801\n",
      "153 squared is 23409\n",
      "155 squared is 24025\n",
      "157 squared is 24649\n",
      "159 squared is 25281\n",
      "161 squared is 25921\n",
      "163 squared is 26569\n",
      "165 squared is 27225\n",
      "167 squared is 27889\n",
      "169 squared is 28561\n",
      "171 squared is 29241\n",
      "173 squared is 29929\n",
      "175 squared is 30625\n",
      "177 squared is 31329\n",
      "179 squared is 32041\n",
      "181 squared is 32761\n",
      "183 squared is 33489\n",
      "185 squared is 34225\n",
      "187 squared is 34969\n",
      "189 squared is 35721\n",
      "191 squared is 36481\n",
      "193 squared is 37249\n",
      "195 squared is 38025\n",
      "197 squared is 38809\n",
      "199 squared is 39601\n"
     ]
    }
   ],
   "source": [
    "choice = input(\"Do you want 'even' or 'odd' squares? \").lower()\n",
    "\n",
    "if choice == \"even\":\n",
    "    for i in range(100, 201):\n",
    "        if i % 2 == 0:\n",
    "            print(i, \"squared is\", i**2)\n",
    "\n",
    "elif choice == \"odd\":\n",
    "    for i in range(100, 201):\n",
    "        if i % 2 != 0:\n",
    "            print(i, \"squared is\", i**2)\n",
    "\n",
    "else:\n",
    "    print(\"Invalid choice. Please type 'even' or 'odd'.\")\n"
   ]
  },
  {
   "cell_type": "code",
   "execution_count": 17,
   "id": "45624915-60d0-4814-ad5c-b14629590ceb",
   "metadata": {},
   "outputs": [
    {
     "name": "stdout",
     "output_type": "stream",
     "text": [
      "'this': 2\n",
      "'is': 1\n",
      "'a': 1\n",
      "'sample': 1\n",
      "'text': 2\n",
      "'will': 1\n",
      "'be': 1\n",
      "'used': 1\n",
      "'to': 1\n",
      "'demonstrate': 1\n",
      "'the': 1\n",
      "'word': 1\n",
      "'counter': 1\n"
     ]
    }
   ],
   "source": [
    "# Word Counter Program\n",
    "\n",
    "input_text = \"this is a sample text. this text will be used to demonstrate the word counter.\"\n",
    "words = input_text.replace(\".\", \"\").replace(\",\", \"\").split()\n",
    "word_count = {}\n",
    "\n",
    "for word in words:\n",
    "    if word in word_count:\n",
    "        word_count[word] += 1\n",
    "    else:\n",
    "        word_count[word] = 1\n",
    "\n",
    "# Print results\n",
    "for word, count in word_count.items():\n",
    "    print(f\"'{word}': {count}\")\n"
   ]
  },
  {
   "cell_type": "code",
   "execution_count": null,
   "id": "b2405bff-bf97-4c31-ace4-5d39e066aaeb",
   "metadata": {},
   "outputs": [],
   "source": [
    "a word count is program counts how many times each word appear in given text\n",
    "input text,preprocessing,word counts,update,display"
   ]
  },
  {
   "cell_type": "code",
   "execution_count": 18,
   "id": "657b0e22-e1ef-4c4f-adff-6279d8d6ef2f",
   "metadata": {},
   "outputs": [
    {
     "name": "stdout",
     "output_type": "stream",
     "text": [
      "True\n",
      "False\n",
      "True\n"
     ]
    }
   ],
   "source": [
    "# check for palindrome\n",
    "\n",
    "def is_palindrome(s: str) -> bool:\n",
    "    \"\"\"this function checks whether the given string is a palindrome.\n",
    "    it ignores spaces, punctuation, and capitalization.\"\"\"\n",
    "    cleaned =\"\".join(ch.lower() for ch in s if ch. isalnum())\n",
    "    return cleaned == cleaned[::-1]\n",
    "print(is_palindrome(\"racecar\"))\n",
    "print(is_palindrome(\"hello\"))\n",
    "print(is_palindrome(\"a man a plan a canal panama\"))"
   ]
  },
  {
   "cell_type": "code",
   "execution_count": null,
   "id": "cc3f567a-3917-48e3-a1c9-24a3a8d49b45",
   "metadata": {},
   "outputs": [],
   "source": [
    "A palindrome is a word , pharase,number reads the same forward and backward,and ignore space,punctuation and capitalization"
   ]
  }
 ],
 "metadata": {
  "kernelspec": {
   "display_name": "Python 3 (ipykernel)",
   "language": "python",
   "name": "python3"
  },
  "language_info": {
   "codemirror_mode": {
    "name": "ipython",
    "version": 3
   },
   "file_extension": ".py",
   "mimetype": "text/x-python",
   "name": "python",
   "nbconvert_exporter": "python",
   "pygments_lexer": "ipython3",
   "version": "3.13.5"
  }
 },
 "nbformat": 4,
 "nbformat_minor": 5
}
