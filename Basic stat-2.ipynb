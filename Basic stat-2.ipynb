{
 "cells": [
  {
   "cell_type": "code",
   "execution_count": null,
   "id": "ab1b99f6-ebc4-44cd-a7aa-350d9443699c",
   "metadata": {},
   "outputs": [],
   "source": [
    "                                            Estimation and confidence intervels"
   ]
  },
  {
   "cell_type": "code",
   "execution_count": null,
   "id": "091688ee-bd0c-4781-a531-91b78d4cfe87",
   "metadata": {},
   "outputs": [],
   "source": [
    "data(x) = 1.13,1.55,1.43,0.92,1.25,1.36,1.32,0.85,1.07,1.48,1.20,1.33,1.18,1.22,1.29\n"
   ]
  },
  {
   "cell_type": "code",
   "execution_count": null,
   "id": "8a29394d-d1d4-4ce5-b148-e059d1d350f8",
   "metadata": {},
   "outputs": [],
   "source": [
    "n = 15"
   ]
  },
  {
   "cell_type": "code",
   "execution_count": null,
   "id": "2f081a5e-a410-45b7-b23c-0caf9f78d000",
   "metadata": {},
   "outputs": [],
   "source": [
    "(a)sample mean (xˉ)\n",
    "xˉ=sum of data\\n\n",
    "\n",
    "sample standard deviation s=√∑(xi−xˉ)2∕ n−1"
   ]
  },
  {
   "cell_type": "code",
   "execution_count": 3,
   "id": "6300cbae-55ca-4610-ba44-2ca59163903a",
   "metadata": {},
   "outputs": [
    {
     "name": "stdout",
     "output_type": "stream",
     "text": [
      "Mean (x̄) = 1.2386666666666666\n"
     ]
    }
   ],
   "source": [
    "data = [1.13, 1.55, 1.43, 0.92, 1.25, 1.36, 1.32, 0.85,\n",
    "        1.07, 1.48, 1.20, 1.33, 1.18, 1.22, 1.29]\n",
    "\n",
    "x_bar = sum(data) / len(data)\n",
    "\n",
    "print(\"Mean (x̄) =\", x_bar)\n"
   ]
  },
  {
   "cell_type": "code",
   "execution_count": 8,
   "id": "f36d8983-8aff-42a9-9915-4b4171ad85a9",
   "metadata": {},
   "outputs": [
    {
     "name": "stdout",
     "output_type": "stream",
     "text": [
      "x_i - x̄ values: [-0.10866666666666669, 0.31133333333333346, 0.19133333333333336, -0.31866666666666654, 0.011333333333333417, 0.12133333333333352, 0.08133333333333348, -0.3886666666666666, -0.16866666666666652, 0.2413333333333334, -0.03866666666666663, 0.09133333333333349, -0.058666666666666645, -0.01866666666666661, 0.05133333333333345]\n"
     ]
    }
   ],
   "source": [
    "data = [1.13, 1.55, 1.43, 0.92, 1.25, 1.36, 1.32, 0.85,\n",
    "        1.07, 1.48, 1.20, 1.33, 1.18, 1.22, 1.29]\n",
    "x_bar = sum(data) / len(data)\n",
    "differences = [x - x_bar for x in data]\n",
    "print(\"x_i - x̄ values:\", differences)\n"
   ]
  },
  {
   "cell_type": "code",
   "execution_count": 7,
   "id": "a2465fa0-349b-43f1-bc04-cb4b7be3c9f7",
   "metadata": {},
   "outputs": [
    {
     "name": "stdout",
     "output_type": "stream",
     "text": [
      "[0.011793960000000006, 0.09696996000000008, 0.03663396000000001, 0.10150595999999992, 0.00012996000000000174, 0.014737960000000043, 0.006625960000000023, 0.15100995999999997, 0.02842595999999995, 0.05827396000000003, 0.0014899599999999974, 0.008353960000000027, 0.0034339599999999985, 0.00034595999999999813, 0.0026419600000000113]\n"
     ]
    }
   ],
   "source": [
    "differences = [(x - x_bar) ** 2 for x in data]\n",
    "print(differences)\n"
   ]
  },
  {
   "cell_type": "code",
   "execution_count": 9,
   "id": "e2669903-51ff-4987-864f-606e3392782d",
   "metadata": {},
   "outputs": [
    {
     "name": "stdout",
     "output_type": "stream",
     "text": [
      "Σ(xi - x̄)² = 0.5223733333333334\n"
     ]
    }
   ],
   "source": [
    "data = [1.13, 1.55, 1.43, 0.92, 1.25, 1.36, 1.32, 0.85,\n",
    "        1.07, 1.48, 1.20, 1.33, 1.18, 1.22, 1.29]\n",
    "x_bar = sum(data) / len(data)\n",
    "ssd = sum((x - x_bar) ** 2 for x in data)\n",
    "print(\"Σ(xi - x̄)² =\", ssd)\n"
   ]
  },
  {
   "cell_type": "code",
   "execution_count": 10,
   "id": "2b5a946d-2975-4cc4-bcd3-d1da69f01d15",
   "metadata": {},
   "outputs": [
    {
     "name": "stdout",
     "output_type": "stream",
     "text": [
      "Variance = 0.03731238095238095\n",
      "Sample Standard Deviation (s) = 0.1931641295695993\n"
     ]
    }
   ],
   "source": [
    "n = len(data)\n",
    "variance = ssd / (n - 1)\n",
    "\n",
    "# sample standard deviation\n",
    "s = variance ** 0.5\n",
    "\n",
    "print(\"Variance =\", variance)\n",
    "print(\"Sample Standard Deviation (s) =\", s)\n"
   ]
  },
  {
   "cell_type": "code",
   "execution_count": 17,
   "id": "0d0dc474-a484-460d-85ca-f24d588b276d",
   "metadata": {},
   "outputs": [
    {
     "name": "stdout",
     "output_type": "stream",
     "text": [
      "Sample mean (x̄) = 1.2386666666666666\n",
      "Sample SD (s) = 0.1931641295695993\n",
      "t-critical = 2.976842734370834\n",
      "99% CI = ( 1.0901973384384906 , 1.3871359948948425 )\n"
     ]
    }
   ],
   "source": [
    "import numpy as np\n",
    "data = [1.13, 1.55, 1.43, 0.92, 1.25, 1.36, 1.32, 0.85,\n",
    "        1.07, 1.48, 1.20, 1.33, 1.18, 1.22, 1.29]\n",
    "\n",
    "n = len(data)\n",
    "x_bar = sum(data) / n\n",
    "s = math.sqrt(sum((x - x_bar) ** 2 for x in data) / (n - 1))\n",
    "df = n - 1\n",
    "\n",
    "# t critical value for 99% CI\n",
    "t_crit = t.ppf(1 - 0.005, df)   #  so alpha/2 = 0.005\n",
    "\n",
    "# standard error\n",
    "se = s / math.sqrt(n)\n",
    "\n",
    "# margin of error\n",
    "margin = t_crit * se\n",
    "\n",
    "# confidence interval\n",
    "ci_lower = x_bar - margin\n",
    "ci_upper = x_bar + margin\n",
    "\n",
    "print(\"Sample mean (x̄) =\", x_bar)\n",
    "print(\"Sample SD (s) =\", s)\n",
    "print(\"t-critical =\", t_crit)\n",
    "print(\"99% CI = (\", ci_lower, \",\", ci_upper, \")\")\n"
   ]
  },
  {
   "cell_type": "code",
   "execution_count": null,
   "id": "894f06c1-2bf6-4b57-aab7-db084fadba8b",
   "metadata": {},
   "outputs": [],
   "source": [
    "(b)99% ci population standard deviation σ=0.2"
   ]
  },
  {
   "cell_type": "code",
   "execution_count": 13,
   "id": "c18d80ee-2bcf-4e8e-8209-0f88c67d8edc",
   "metadata": {},
   "outputs": [
    {
     "name": "stdout",
     "output_type": "stream",
     "text": [
      "99% CI = (1.1057, 1.3717)\n"
     ]
    }
   ],
   "source": [
    "import math\n",
    "x_bar = 1.2386666666666668   # sample mean\n",
    "n = 15\n",
    "sigma = 0.2\n",
    "z = 2.5758293035489004  # z_{0.005} for 99%\n",
    "\n",
    "se = sigma / math.sqrt(n)\n",
    "me = z * se\n",
    "\n",
    "ci_lower = x_bar - me\n",
    "ci_upper = x_bar + me\n",
    "\n",
    "print(\"99% CI = ({:.4f}, {:.4f})\".format(ci_lower, ci_upper))\n"
   ]
  },
  {
   "cell_type": "code",
   "execution_count": 14,
   "id": "6abc1658-c9d5-490c-9e4e-f6d244134527",
   "metadata": {},
   "outputs": [
    {
     "name": "stdout",
     "output_type": "stream",
     "text": [
      "n = 15\n",
      "Sample mean x̄ = 1.2386666666666666\n",
      "Known σ = 0.2\n",
      "Standard error SE = 0.051639777949432225\n",
      "Margin of error ME = 0.13301525327090588\n",
      "99% CI = ( 1.1056514133957607 , 1.3716819199375725 )\n"
     ]
    }
   ],
   "source": [
    "\n",
    "data = [1.13, 1.55, 1.43, 0.92, 1.25, 1.36, 1.32, 0.85,\n",
    "        1.07, 1.48, 1.20, 1.33, 1.18, 1.22, 1.29]\n",
    "\n",
    "n = len(data)\n",
    "x_bar = sum(data) / n\n",
    "\n",
    "# known population standard deviation \n",
    "sigma = 0.2\n",
    "\n",
    "# z-critical for 99%\n",
    "z = 2.5758293035489004  # exact z_{0.005}\n",
    "\n",
    "se = sigma / math.sqrt(n)\n",
    "me = z * se\n",
    "\n",
    "ci_lower = x_bar - me\n",
    "ci_upper = x_bar + me\n",
    "\n",
    "print(\"n =\", n)\n",
    "print(\"Sample mean x̄ =\", x_bar)\n",
    "print(\"Known σ =\", sigma)\n",
    "print(\"Standard error SE =\", se)\n",
    "print(\"Margin of error ME =\", me)\n",
    "print(\"99% CI = (\", ci_lower, \",\", ci_upper, \")\")\n"
   ]
  },
  {
   "cell_type": "code",
   "execution_count": null,
   "id": "bdd2a5ba-f3d8-42cf-90e9-cf2e82528eba",
   "metadata": {},
   "outputs": [],
   "source": []
  }
 ],
 "metadata": {
  "kernelspec": {
   "display_name": "Python (anaconda1)",
   "language": "python",
   "name": "anaconda1"
  },
  "language_info": {
   "codemirror_mode": {
    "name": "ipython",
    "version": 3
   },
   "file_extension": ".py",
   "mimetype": "text/x-python",
   "name": "python",
   "nbconvert_exporter": "python",
   "pygments_lexer": "ipython3",
   "version": "3.12.7"
  }
 },
 "nbformat": 4,
 "nbformat_minor": 5
}
