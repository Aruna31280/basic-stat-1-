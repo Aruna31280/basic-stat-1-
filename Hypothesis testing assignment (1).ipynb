{
 "cells": [
  {
   "cell_type": "code",
   "execution_count": null,
   "id": "44b949bf-008e-4556-9510-64a1efafd209",
   "metadata": {},
   "outputs": [],
   "source": [
    "                                                   HYPOTHESIS TESTING ASSIGNMENT"
   ]
  },
  {
   "cell_type": "code",
   "execution_count": null,
   "id": "9a6cd9b2-3df5-44b2-bae9-430e97e4d83d",
   "metadata": {},
   "outputs": [],
   "source": [
    "Hypotheses : Hypotheses testing is statistical method that allows you to make inferences or draw conclusions about a population based\n",
    "on sample data.it is used to determine whether there is enough evidence to reject a null hypothesis."
   ]
  },
  {
   "cell_type": "markdown",
   "id": "3b030f96-8c41-471b-82f5-e4d0a4e11784",
   "metadata": {},
   "source": [
    "**Null Hypothesis (H₀):**  \n",
    "\\[\n",
    "\\mu = 600\n",
    "\\]\n",
    "\n",
    "**Alternative Hypothesis (H₁):**  \n",
    "\\[\n",
    "\\mu > 600\n",
    "\\]\n"
   ]
  },
  {
   "cell_type": "code",
   "execution_count": null,
   "id": "a80b4c9a-55bb-4c81-919b-84b7e8e2682f",
   "metadata": {},
   "outputs": [],
   "source": [
    " cost model (µ): $1,000 + 55X → gives µ = 600\n",
    "\n",
    "Sample: 25 restaurants\n",
    "\n",
    "Sample mean weekly cost = 34000\n",
    "\n",
    "Population standard deviation (σ) = $575\n",
    "\n",
    "Test: Restaurant owners claim weekly operating costs are higher than the model suggests.\n",
    "\n",
    " this is a one-tailed (right-tailed) Z-test."
   ]
  },
  {
   "cell_type": "markdown",
   "id": "493548c1-bd57-4d0f-b09e-ca5d567936b3",
   "metadata": {},
   "source": [
    "z_stat = (sample_mean - mu) / (sigma / math.sqrt(n))"
   ]
  },
  {
   "cell_type": "code",
   "execution_count": 39,
   "id": "2ea2eb3b-ed7a-4a28-a5b0-a75f2ecbe35f",
   "metadata": {},
   "outputs": [
    {
     "name": "stdout",
     "output_type": "stream",
     "text": [
      "Sample Mean (x̄): 34646.4\n"
     ]
    }
   ],
   "source": [
    "import numpy as np\n",
    "\n",
    "# weekly costs from 25 restaurants (replace these with your real data if you have it)\n",
    "sample_costs = [\n",
    "    34500, 34700, 34620, 34680, 34710,\n",
    "    34550, 34690, 34640, 34580, 34670,\n",
    "    34620, 34730, 34590, 34650, 34660,\n",
    "    34680, 34610, 34720, 34600, 34640,\n",
    "    34690, 34630, 34670, 34650, 34680\n",
    "]\n",
    "# sample mean (x̄)\n",
    "x_bar = np.mean(sample_costs)\n",
    "print(\"Sample Mean (x̄):\", x_bar)\n"
   ]
  },
  {
   "cell_type": "code",
   "execution_count": 40,
   "id": "f3de8cac-4073-4d63-9d2d-fab6c4ce06a0",
   "metadata": {},
   "outputs": [
    {
     "name": "stdout",
     "output_type": "stream",
     "text": [
      "Z = (X̄ - μ) / (σ / √n)\n",
      "Z = (34646 - 34000) / (575 / √25)\n",
      "Z = 650 / (575/5)\n",
      "Z = 650 / 115\n",
      "Z = 5.65\n"
     ]
    }
   ],
   "source": [
    "\n",
    "#The test statistic is:\n",
    "print(\"Z = (X̄ - μ) / (σ / √n)\")\n",
    "\n",
    "# Now substitute the values step by step\n",
    "print(\"Z = (34646 - 34000) / (575 / √25)\")\n",
    "print(\"Z = 650 / (575/5)\")\n",
    "print(\"Z = 650 / 115\")\n",
    "print(\"Z = 5.65\")\n"
   ]
  },
  {
   "cell_type": "code",
   "execution_count": null,
   "id": "f31d0b25-c1e6-4edb-bd79-6515d2705928",
   "metadata": {},
   "outputs": [],
   "source": [
    "3. Determine the Critical Value"
   ]
  },
  {
   "cell_type": "markdown",
   "id": "210523ef-538d-44db-9b0e-fe847b99dbc3",
   "metadata": {},
   "source": [
    "alpha = 0.05"
   ]
  },
  {
   "cell_type": "markdown",
   "id": "6efbbe60-81e0-4baf-8856-b892bfb28212",
   "metadata": {},
   "source": [
    "z0.05​=1.645"
   ]
  },
  {
   "cell_type": "code",
   "execution_count": 30,
   "id": "5694fe5b-747c-4e42-a521-dd8d3cb52e35",
   "metadata": {},
   "outputs": [
    {
     "name": "stdout",
     "output_type": "stream",
     "text": [
      "Critical Value (Zα): 1.645\n"
     ]
    }
   ],
   "source": [
    "alpha = 0.05\n",
    "z_critical = 1.645   \n",
    "print(\"Critical Value (Zα):\", z_critical)\n"
   ]
  },
  {
   "cell_type": "code",
   "execution_count": null,
   "id": "5266b3c1-8d09-4896-a7f8-55946267a9e7",
   "metadata": {},
   "outputs": [],
   "source": [
    "4.decision\n",
    "Test statistic z = 5.65\n",
    "Critical value z_c = 1.645\n",
    "since 5.65 > 1.645 rejects H_o"
   ]
  },
  {
   "cell_type": "markdown",
   "id": "d05659a5-bb4e-4f77-96c1-a1665f83daac",
   "metadata": {},
   "source": [
    "reject_null = z_stat > z_critical\n"
   ]
  },
  {
   "cell_type": "code",
   "execution_count": 41,
   "id": "55ba3d94-e4ff-4e73-ab59-8d5001981847",
   "metadata": {},
   "outputs": [
    {
     "name": "stdout",
     "output_type": "stream",
     "text": [
      "Decision: Reject H0\n"
     ]
    }
   ],
   "source": [
    "\n",
    "if z > z_critical:\n",
    "    decision = \"Reject H0\"\n",
    "else:\n",
    "    decision = \"Fail to Reject H0\"\n",
    "\n",
    "print(\"Decision:\", decision)\n",
    "\n"
   ]
  },
  {
   "cell_type": "code",
   "execution_count": 44,
   "id": "909e99fb-17ed-4413-b2ba-b37730f54fb7",
   "metadata": {},
   "outputs": [
    {
     "name": "stdout",
     "output_type": "stream",
     "text": [
      "Step 5: Conclusion\n",
      "There is strong evidence that the weekly operating costs are higher than the model prediction of $34,000.\n"
     ]
    }
   ],
   "source": [
    "#Conclusion\n",
    "print(\"Step 5: Conclusion\")\n",
    "if decision == \"Reject H0\":\n",
    "    print(\"There is strong evidence that the weekly operating costs are higher than the model prediction of $34,000.\")\n",
    "else:\n",
    "    print(\"There is not enough evidence to conclude that the weekly operating costs are higher than $34,000.\")"
   ]
  },
  {
   "cell_type": "code",
   "execution_count": null,
   "id": "80c3f763-23fe-4402-815f-8580aa036e10",
   "metadata": {},
   "outputs": [],
   "source": []
  }
 ],
 "metadata": {
  "kernelspec": {
   "display_name": "Python (anaconda1)",
   "language": "python",
   "name": "anaconda1"
  },
  "language_info": {
   "codemirror_mode": {
    "name": "ipython",
    "version": 3
   },
   "file_extension": ".py",
   "mimetype": "text/x-python",
   "name": "python",
   "nbconvert_exporter": "python",
   "pygments_lexer": "ipython3",
   "version": "3.12.7"
  }
 },
 "nbformat": 4,
 "nbformat_minor": 5
}
