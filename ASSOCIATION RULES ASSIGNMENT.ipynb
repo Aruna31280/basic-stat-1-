{
 "cells": [
  {
   "cell_type": "code",
   "execution_count": null,
   "id": "21ecd067-f4a4-4cc2-849c-f39820960d38",
   "metadata": {},
   "outputs": [],
   "source": [
    "                                                  ASSOCIATION RULES ASSIGNMENT"
   ]
  },
  {
   "cell_type": "code",
   "execution_count": 9,
   "id": "d727aae2-2e10-410a-8283-bbb2b85e9dc8",
   "metadata": {},
   "outputs": [
    {
     "name": "stdout",
     "output_type": "stream",
     "text": [
      "Collecting mlxtend\n",
      "  Downloading mlxtend-0.23.4-py3-none-any.whl.metadata (7.3 kB)\n",
      "Requirement already satisfied: scipy>=1.2.1 in c:\\users\\ridhv\\anaconda3\\lib\\site-packages (from mlxtend) (1.15.3)\n",
      "Requirement already satisfied: numpy>=1.16.2 in c:\\users\\ridhv\\anaconda3\\lib\\site-packages (from mlxtend) (2.3.1)\n",
      "Requirement already satisfied: pandas>=0.24.2 in c:\\users\\ridhv\\anaconda3\\lib\\site-packages (from mlxtend) (2.3.1)\n",
      "Requirement already satisfied: scikit-learn>=1.3.1 in c:\\users\\ridhv\\anaconda3\\lib\\site-packages (from mlxtend) (1.6.1)\n",
      "Requirement already satisfied: matplotlib>=3.0.0 in c:\\users\\ridhv\\anaconda3\\lib\\site-packages (from mlxtend) (3.10.5)\n",
      "Requirement already satisfied: joblib>=0.13.2 in c:\\users\\ridhv\\anaconda3\\lib\\site-packages (from mlxtend) (1.5.1)\n",
      "Requirement already satisfied: contourpy>=1.0.1 in c:\\users\\ridhv\\anaconda3\\lib\\site-packages (from matplotlib>=3.0.0->mlxtend) (1.3.3)\n",
      "Requirement already satisfied: cycler>=0.10 in c:\\users\\ridhv\\anaconda3\\lib\\site-packages (from matplotlib>=3.0.0->mlxtend) (0.12.1)\n",
      "Requirement already satisfied: fonttools>=4.22.0 in c:\\users\\ridhv\\anaconda3\\lib\\site-packages (from matplotlib>=3.0.0->mlxtend) (4.59.1)\n",
      "Requirement already satisfied: kiwisolver>=1.3.1 in c:\\users\\ridhv\\anaconda3\\lib\\site-packages (from matplotlib>=3.0.0->mlxtend) (1.4.9)\n",
      "Requirement already satisfied: packaging>=20.0 in c:\\users\\ridhv\\anaconda3\\lib\\site-packages (from matplotlib>=3.0.0->mlxtend) (24.2)\n",
      "Requirement already satisfied: pillow>=8 in c:\\users\\ridhv\\anaconda3\\lib\\site-packages (from matplotlib>=3.0.0->mlxtend) (11.1.0)\n",
      "Requirement already satisfied: pyparsing>=2.3.1 in c:\\users\\ridhv\\anaconda3\\lib\\site-packages (from matplotlib>=3.0.0->mlxtend) (3.2.3)\n",
      "Requirement already satisfied: python-dateutil>=2.7 in c:\\users\\ridhv\\anaconda3\\lib\\site-packages (from matplotlib>=3.0.0->mlxtend) (2.9.0.post0)\n",
      "Requirement already satisfied: pytz>=2020.1 in c:\\users\\ridhv\\anaconda3\\lib\\site-packages (from pandas>=0.24.2->mlxtend) (2024.1)\n",
      "Requirement already satisfied: tzdata>=2022.7 in c:\\users\\ridhv\\anaconda3\\lib\\site-packages (from pandas>=0.24.2->mlxtend) (2025.2)\n",
      "Requirement already satisfied: six>=1.5 in c:\\users\\ridhv\\anaconda3\\lib\\site-packages (from python-dateutil>=2.7->matplotlib>=3.0.0->mlxtend) (1.17.0)\n",
      "Requirement already satisfied: threadpoolctl>=3.1.0 in c:\\users\\ridhv\\anaconda3\\lib\\site-packages (from scikit-learn>=1.3.1->mlxtend) (3.5.0)\n",
      "Downloading mlxtend-0.23.4-py3-none-any.whl (1.4 MB)\n",
      "   ---------------------------------------- 0.0/1.4 MB ? eta -:--:--\n",
      "   ------- -------------------------------- 0.3/1.4 MB ? eta -:--:--\n",
      "   ----------------------- ---------------- 0.8/1.4 MB 2.3 MB/s eta 0:00:01\n",
      "   ---------------------------------------- 1.4/1.4 MB 2.4 MB/s eta 0:00:00\n",
      "Installing collected packages: mlxtend\n",
      "Successfully installed mlxtend-0.23.4\n"
     ]
    }
   ],
   "source": [
    "!pip install mlxtend\n"
   ]
  },
  {
   "cell_type": "code",
   "execution_count": 10,
   "id": "2903f914-59bc-4162-b3ac-e299b76b90a8",
   "metadata": {},
   "outputs": [],
   "source": [
    "import pandas as pd\n",
    "from mlxtend.frequent_patterns import apriori, association_rules"
   ]
  },
  {
   "cell_type": "code",
   "execution_count": 11,
   "id": "a14a4f7d-0863-4b24-bc5e-7cf5342e46c4",
   "metadata": {},
   "outputs": [
    {
     "name": "stdout",
     "output_type": "stream",
     "text": [
      "  shrimp,almonds,avocado,vegetables mix,green grapes,whole weat flour,yams,cottage cheese,energy drink,tomato juice,low fat yogurt,green tea,honey,salad,mineral water,salmon,antioxydant juice,frozen smoothie,spinach,olive oil\n",
      "0                             burgers,meatballs,eggs                                                                                                                                                                             \n",
      "1                                            chutney                                                                                                                                                                             \n",
      "2                                     turkey,avocado                                                                                                                                                                             \n",
      "3  mineral water,milk,energy bar,whole wheat rice...                                                                                                                                                                             \n",
      "4                                     low fat yogurt                                                                                                                                                                             \n"
     ]
    },
    {
     "data": {
      "text/html": [
       "<div>\n",
       "<style scoped>\n",
       "    .dataframe tbody tr th:only-of-type {\n",
       "        vertical-align: middle;\n",
       "    }\n",
       "\n",
       "    .dataframe tbody tr th {\n",
       "        vertical-align: top;\n",
       "    }\n",
       "\n",
       "    .dataframe thead th {\n",
       "        text-align: right;\n",
       "    }\n",
       "</style>\n",
       "<table border=\"1\" class=\"dataframe\">\n",
       "  <thead>\n",
       "    <tr style=\"text-align: right;\">\n",
       "      <th></th>\n",
       "      <th>shrimp,almonds,avocado,vegetables mix,green grapes,whole weat flour,yams,cottage cheese,energy drink,tomato juice,low fat yogurt,green tea,honey,salad,mineral water,salmon,antioxydant juice,frozen smoothie,spinach,olive oil</th>\n",
       "    </tr>\n",
       "  </thead>\n",
       "  <tbody>\n",
       "    <tr>\n",
       "      <th>0</th>\n",
       "      <td>burgers,meatballs,eggs</td>\n",
       "    </tr>\n",
       "    <tr>\n",
       "      <th>1</th>\n",
       "      <td>chutney</td>\n",
       "    </tr>\n",
       "    <tr>\n",
       "      <th>2</th>\n",
       "      <td>turkey,avocado</td>\n",
       "    </tr>\n",
       "    <tr>\n",
       "      <th>3</th>\n",
       "      <td>mineral water,milk,energy bar,whole wheat rice...</td>\n",
       "    </tr>\n",
       "    <tr>\n",
       "      <th>4</th>\n",
       "      <td>low fat yogurt</td>\n",
       "    </tr>\n",
       "    <tr>\n",
       "      <th>...</th>\n",
       "      <td>...</td>\n",
       "    </tr>\n",
       "    <tr>\n",
       "      <th>7495</th>\n",
       "      <td>butter,light mayo,fresh bread</td>\n",
       "    </tr>\n",
       "    <tr>\n",
       "      <th>7496</th>\n",
       "      <td>burgers,frozen vegetables,eggs,french fries,ma...</td>\n",
       "    </tr>\n",
       "    <tr>\n",
       "      <th>7497</th>\n",
       "      <td>chicken</td>\n",
       "    </tr>\n",
       "    <tr>\n",
       "      <th>7498</th>\n",
       "      <td>escalope,green tea</td>\n",
       "    </tr>\n",
       "    <tr>\n",
       "      <th>7499</th>\n",
       "      <td>eggs,frozen smoothie,yogurt cake,low fat yogurt</td>\n",
       "    </tr>\n",
       "  </tbody>\n",
       "</table>\n",
       "<p>7500 rows × 1 columns</p>\n",
       "</div>"
      ],
      "text/plain": [
       "     shrimp,almonds,avocado,vegetables mix,green grapes,whole weat flour,yams,cottage cheese,energy drink,tomato juice,low fat yogurt,green tea,honey,salad,mineral water,salmon,antioxydant juice,frozen smoothie,spinach,olive oil\n",
       "0                                burgers,meatballs,eggs                                                                                                                                                                             \n",
       "1                                               chutney                                                                                                                                                                             \n",
       "2                                        turkey,avocado                                                                                                                                                                             \n",
       "3     mineral water,milk,energy bar,whole wheat rice...                                                                                                                                                                             \n",
       "4                                        low fat yogurt                                                                                                                                                                             \n",
       "...                                                 ...                                                                                                                                                                             \n",
       "7495                      butter,light mayo,fresh bread                                                                                                                                                                             \n",
       "7496  burgers,frozen vegetables,eggs,french fries,ma...                                                                                                                                                                             \n",
       "7497                                            chicken                                                                                                                                                                             \n",
       "7498                                 escalope,green tea                                                                                                                                                                             \n",
       "7499    eggs,frozen smoothie,yogurt cake,low fat yogurt                                                                                                                                                                             \n",
       "\n",
       "[7500 rows x 1 columns]"
      ]
     },
     "execution_count": 11,
     "metadata": {},
     "output_type": "execute_result"
    }
   ],
   "source": [
    "import pandas as pd\n",
    "import numpy as np\n",
    "import matplotlib.pyplot as plt\n",
    "import seaborn as sns\n",
    "df = pd.read_excel(\"Online Retail.xlsx\")\n",
    "print(df.head())\n",
    "df"
   ]
  },
  {
   "cell_type": "code",
   "execution_count": 2,
   "id": "ecb8b3e7-3b9c-44ee-b1d7-39d0584d2618",
   "metadata": {},
   "outputs": [
    {
     "name": "stdout",
     "output_type": "stream",
     "text": [
      "\n",
      "Dataset Info:\n",
      "<class 'pandas.core.frame.DataFrame'>\n",
      "RangeIndex: 7500 entries, 0 to 7499\n",
      "Data columns (total 1 columns):\n",
      " #   Column                                                                                                                                                                                                                           Non-Null Count  Dtype \n",
      "---  ------                                                                                                                                                                                                                           --------------  ----- \n",
      " 0   shrimp,almonds,avocado,vegetables mix,green grapes,whole weat flour,yams,cottage cheese,energy drink,tomato juice,low fat yogurt,green tea,honey,salad,mineral water,salmon,antioxydant juice,frozen smoothie,spinach,olive oil  7500 non-null   object\n",
      "dtypes: object(1)\n",
      "memory usage: 58.7+ KB\n",
      "None\n"
     ]
    }
   ],
   "source": [
    "\n",
    "print(\"\\nDataset Info:\")\n",
    "print(df.info())"
   ]
  },
  {
   "cell_type": "code",
   "execution_count": 3,
   "id": "e8dcb680-28a7-485c-8dbb-641656f7c640",
   "metadata": {},
   "outputs": [
    {
     "name": "stdout",
     "output_type": "stream",
     "text": [
      "\n",
      "missing values:\n",
      "\n"
     ]
    },
    {
     "data": {
      "text/plain": [
       "shrimp,almonds,avocado,vegetables mix,green grapes,whole weat flour,yams,cottage cheese,energy drink,tomato juice,low fat yogurt,green tea,honey,salad,mineral water,salmon,antioxydant juice,frozen smoothie,spinach,olive oil    0\n",
       "dtype: int64"
      ]
     },
     "execution_count": 3,
     "metadata": {},
     "output_type": "execute_result"
    }
   ],
   "source": [
    "# data processing\n",
    "# missing values\n",
    "print(\"\\nmissing values:\\n\")\n",
    "df.isnull().sum()  "
   ]
  },
  {
   "cell_type": "code",
   "execution_count": 17,
   "id": "304218ce-8a2a-4bb1-82ec-c902b568e882",
   "metadata": {},
   "outputs": [
    {
     "name": "stdout",
     "output_type": "stream",
     "text": [
      "Index(['shrimp,almonds,avocado,vegetables mix,green grapes,whole weat flour,yams,cottage cheese,energy drink,tomato juice,low fat yogurt,green tea,honey,salad,mineral water,salmon,antioxydant juice,frozen smoothie,spinach,olive oil'], dtype='object')\n"
     ]
    }
   ],
   "source": [
    "print(df.columns)\n"
   ]
  },
  {
   "cell_type": "code",
   "execution_count": 25,
   "id": "ee99c762-cf22-40d1-b8c4-00f82ea8536f",
   "metadata": {},
   "outputs": [
    {
     "name": "stdout",
     "output_type": "stream",
     "text": [
      "Before cleaning: (7501, 1)\n",
      "After dropping duplicates: (5176, 1)\n",
      "                                                   0\n",
      "0  shrimp,almonds,avocado,vegetables mix,green gr...\n",
      "1                             burgers,meatballs,eggs\n",
      "2                                            chutney\n",
      "3                                     turkey,avocado\n",
      "4  mineral water,milk,energy bar,whole wheat rice...\n"
     ]
    }
   ],
   "source": [
    "import pandas as pd\n",
    "df = pd.read_excel(\"Online Retail.xlsx\", header=None)   # adjust filename & extension\n",
    "print(\"Before cleaning:\", df.shape)\n",
    "# Drop duplicate \n",
    "df = df.drop_duplicates()\n",
    "print(\"After dropping duplicates:\", df.shape)\n",
    "print(df.head())"
   ]
  },
  {
   "cell_type": "code",
   "execution_count": 34,
   "id": "30176890-8d34-4b2d-a0aa-2a541c8fdf17",
   "metadata": {},
   "outputs": [
    {
     "name": "stdout",
     "output_type": "stream",
     "text": [
      "Basket format (0/1 encoding):\n",
      "    asparagus  almonds  antioxydant juice  asparagus  avocado  babies food  \\\n",
      "0       False     True               True      False     True        False   \n",
      "1       False    False              False      False    False        False   \n",
      "2       False    False              False      False    False        False   \n",
      "3       False    False              False      False     True        False   \n",
      "4       False    False              False      False    False        False   \n",
      "\n",
      "   bacon  barbecue sauce  black tea  blueberries  ...  turkey  vegetables mix  \\\n",
      "0  False           False      False        False  ...   False            True   \n",
      "1  False           False      False        False  ...   False           False   \n",
      "2  False           False      False        False  ...   False           False   \n",
      "3  False           False      False        False  ...    True           False   \n",
      "4  False           False      False        False  ...   False           False   \n",
      "\n",
      "   water spray  white wine  whole weat flour  whole wheat pasta  \\\n",
      "0        False       False              True              False   \n",
      "1        False       False             False              False   \n",
      "2        False       False             False              False   \n",
      "3        False       False             False              False   \n",
      "4        False       False             False              False   \n",
      "\n",
      "   whole wheat rice   yams  yogurt cake  zucchini  \n",
      "0             False   True        False     False  \n",
      "1             False  False        False     False  \n",
      "2             False  False        False     False  \n",
      "3             False  False        False     False  \n",
      "4              True  False        False     False  \n",
      "\n",
      "[5 rows x 120 columns]\n"
     ]
    }
   ],
   "source": [
    "#Association rule mining\n",
    "import pandas as pd\n",
    "from mlxtend.preprocessing import TransactionEncoder\n",
    "basket = pd.DataFrame(te_array, columns=te.columns_)\n",
    "print(\"Basket format (0/1 encoding):\")\n",
    "print(basket.head())"
   ]
  },
  {
   "cell_type": "code",
   "execution_count": 37,
   "id": "b81fc47c-3218-4fe0-a13f-d7849a7928f8",
   "metadata": {},
   "outputs": [
    {
     "name": "stdout",
     "output_type": "stream",
     "text": [
      "\n",
      "Frequent Itemsets (Top 10):\n",
      "     support             itemsets\n",
      "37  0.299845      (mineral water)\n",
      "52  0.229521          (spaghetti)\n",
      "15  0.208076               (eggs)\n",
      "11  0.205178          (chocolate)\n",
      "19  0.192620       (french fries)\n",
      "36  0.170015               (milk)\n",
      "26  0.169243          (green tea)\n",
      "27  0.135819        (ground beef)\n",
      "24  0.129830  (frozen vegetables)\n",
      "43  0.125193           (pancakes)\n",
      "\n",
      "Association Rules (Top 10):\n",
      "                      antecedents      consequents   support  confidence  \\\n",
      "163                        (soup)  (mineral water)  0.033423    0.471390   \n",
      "210             (milk, spaghetti)  (mineral water)  0.022604    0.451737   \n",
      "187             (milk, chocolate)  (mineral water)  0.020093    0.448276   \n",
      "205      (spaghetti, ground beef)  (mineral water)  0.024730    0.442907   \n",
      "155                   (olive oil)  (mineral water)  0.038640    0.440529   \n",
      "127                 (ground beef)  (mineral water)  0.058733    0.432432   \n",
      "206  (mineral water, ground beef)      (spaghetti)  0.024730    0.421053   \n",
      "193        (spaghetti, chocolate)  (mineral water)  0.022991    0.411765   \n",
      "133                 (ground beef)      (spaghetti)  0.055835    0.411095   \n",
      "62                  (cooking oil)  (mineral water)  0.028980    0.403226   \n",
      "\n",
      "         lift  \n",
      "163  1.572109  \n",
      "210  1.506568  \n",
      "187  1.495023  \n",
      "205  1.477116  \n",
      "155  1.469186  \n",
      "127  1.442184  \n",
      "206  1.834485  \n",
      "193  1.373257  \n",
      "133  1.791102  \n",
      "62   1.344779  \n"
     ]
    }
   ],
   "source": [
    "# Frequent Itemsets (Apriori)\n",
    "frequent_itemsets = apriori(basket, min_support=0.02, use_colnames=True)\n",
    "# Association Rules\n",
    "rules = association_rules(frequent_itemsets, metric=\"lift\", min_threshold=1)\n",
    "rules = rules.sort_values(by=\"confidence\", ascending=False)\n",
    "print(\"\\nFrequent Itemsets (Top 10):\")\n",
    "print(frequent_itemsets.sort_values(by=\"support\", ascending=False).head(10))\n",
    "\n",
    "print(\"\\nAssociation Rules (Top 10):\")\n",
    "print(rules[['antecedents','consequents','support','confidence','lift']].head(10))"
   ]
  },
  {
   "cell_type": "code",
   "execution_count": 39,
   "id": "d0f7e61d-b0a7-4cef-9b2c-247ca6edb536",
   "metadata": {},
   "outputs": [
    {
     "data": {
      "image/png": "[encoded data removed]",
      "text/plain": [
       "<Figure size 800x500 with 1 Axes>"
      ]
     },
     "metadata": {},
     "output_type": "display_data"
    }
   ],
   "source": [
    "#  Visualization\n",
    "plt.figure(figsize=(8,5))\n",
    "sns.scatterplot(x=\"support\", y=\"confidence\", size=\"lift\", data=rules, legend=False, alpha=0.7)\n",
    "plt.title(\"Association Rules (Support vs Confidence)\")\n",
    "plt.xlabel(\"Support\")\n",
    "plt.ylabel(\"Confidence\")\n",
    "plt.show()"
   ]
  },
  {
   "cell_type": "code",
   "execution_count": 52,
   "id": "090a4407-e648-4ab6-9ae2-fd0a09b4c36a",
   "metadata": {},
   "outputs": [
    {
     "name": "stdout",
     "output_type": "stream",
     "text": [
      "    support                     itemsets\n",
      "0       1.0                      (bread)\n",
      "1       0.6                     (butter)\n",
      "3       0.6                       (milk)\n",
      "4       0.6              (butter, bread)\n",
      "6       0.6                (milk, bread)\n",
      "2       0.4                       (eggs)\n",
      "5       0.4                (bread, eggs)\n",
      "8       0.4               (milk, butter)\n",
      "11      0.4        (milk, butter, bread)\n",
      "7       0.2               (butter, eggs)\n",
      "9       0.2                 (milk, eggs)\n",
      "10      0.2        (butter, bread, eggs)\n",
      "12      0.2          (milk, bread, eggs)\n",
      "13      0.2         (milk, butter, eggs)\n",
      "14      0.2  (milk, butter, bread, eggs)\n"
     ]
    }
   ],
   "source": [
    "print(frequent_itemsets.sort_values(by=\"support\", ascending=False).head(20))"
   ]
  },
  {
   "cell_type": "code",
   "execution_count": 50,
   "id": "e1bf551c-5dd9-486c-959e-ae14c8d8a693",
   "metadata": {},
   "outputs": [],
   "source": [
    "#Analysis and interpretation\n",
    "import warnings\n",
    "warnings.filterwarnings(\"ignore\", category=RuntimeWarning)\n"
   ]
  },
  {
   "cell_type": "code",
   "execution_count": 68,
   "id": "77fce2fd-9661-485f-9ef8-5040e88fdb2f",
   "metadata": {},
   "outputs": [
    {
     "name": "stdout",
     "output_type": "stream",
     "text": [
      "              antecedents            consequents  support  confidence  \\\n",
      "7                  (milk)               (butter)      0.4    0.666667   \n",
      "8                (butter)                 (milk)      0.4    0.666667   \n",
      "14          (milk, bread)               (butter)      0.4    0.666667   \n",
      "15        (butter, bread)                 (milk)      0.4    0.666667   \n",
      "16                 (milk)        (butter, bread)      0.4    0.666667   \n",
      "17               (butter)          (milk, bread)      0.4    0.666667   \n",
      "22         (milk, butter)                 (eggs)      0.2    0.500000   \n",
      "25                 (eggs)         (milk, butter)      0.2    0.500000   \n",
      "26  (milk, butter, bread)                 (eggs)      0.2    0.500000   \n",
      "30         (milk, butter)          (bread, eggs)      0.2    0.500000   \n",
      "33          (bread, eggs)         (milk, butter)      0.2    0.500000   \n",
      "34                 (eggs)  (milk, butter, bread)      0.2    0.500000   \n",
      "\n",
      "        lift                                           analysis  \n",
      "7   1.111111  When customers buy [milk], they are likely to ...  \n",
      "8   1.111111  When customers buy [butter], they are likely t...  \n",
      "14  1.111111  When customers buy [milk, bread], they are lik...  \n",
      "15  1.111111  When customers buy [butter, bread], they are l...  \n",
      "16  1.111111  When customers buy [milk], they are likely to ...  \n",
      "17  1.111111  When customers buy [butter], they are likely t...  \n",
      "22  1.250000  When customers buy [milk, butter], they are li...  \n",
      "25  1.250000  When customers buy [eggs], they are likely to ...  \n",
      "26  1.250000  When customers buy [milk, butter, bread], they...  \n",
      "30  1.250000  When customers buy [milk, butter], they are li...  \n",
      "33  1.250000  When customers buy [bread, eggs], they are lik...  \n",
      "34  1.250000  When customers buy [eggs], they are likely to ...  \n"
     ]
    }
   ],
   "source": [
    "import pandas as pd\n",
    "import numpy as np\n",
    "import warnings\n",
    "from mlxtend.frequent_patterns import apriori, association_rules\n",
    "from mlxtend.preprocessing import TransactionEncoder\n",
    "warnings.filterwarnings(\"ignore\", category=RuntimeWarning)\n",
    "dataset = [\n",
    "    ['milk', 'bread', 'butter'],\n",
    "    ['bread', 'butter'],\n",
    "    ['milk', 'bread'],\n",
    "    ['milk', 'bread', 'butter', 'eggs'],\n",
    "    ['bread', 'eggs']\n",
    "]\n",
    "# One-hot encode\n",
    "te = TransactionEncoder()\n",
    "te_array = te.fit(dataset).transform(dataset)\n",
    "df = pd.DataFrame(te_array, columns=te.columns_)\n",
    "frequent_itemsets = apriori(df, min_support=0.01, use_colnames=True)\n",
    "# Association rules\n",
    "rules = association_rules(frequent_itemsets, metric=\"confidence\", min_threshold=0.4)\n",
    "# analysis\n",
    "rules['analysis'] = rules.apply(analyze_rule, axis=1)\n",
    "rules = rules[rules['lift'] >= 1.1]\n",
    "rules = rules.replace([np.inf, -np.inf], np.nan).dropna()\n",
    "\n",
    "print(rules[['antecedents', 'consequents', 'support', 'confidence', 'lift', 'analysis']])"
   ]
  },
  {
   "cell_type": "code",
   "execution_count": 38,
   "id": "2f1dd06b-482f-479c-8a66-2e1021eee1c4",
   "metadata": {},
   "outputs": [
    {
     "name": "stdout",
     "output_type": "stream",
     "text": [
      "If a customer buys ['soup'], they are likely to also buy ['mineral water'] with confidence 0.47 and lift 1.57.\n",
      "If a customer buys ['milk', 'spaghetti'], they are likely to also buy ['mineral water'] with confidence 0.45 and lift 1.51.\n",
      "If a customer buys ['milk', 'chocolate'], they are likely to also buy ['mineral water'] with confidence 0.45 and lift 1.50.\n",
      "If a customer buys ['spaghetti', 'ground beef'], they are likely to also buy ['mineral water'] with confidence 0.44 and lift 1.48.\n",
      "If a customer buys ['olive oil'], they are likely to also buy ['mineral water'] with confidence 0.44 and lift 1.47.\n"
     ]
    }
   ],
   "source": [
    "# Step 8: Interpretation\n",
    "for idx, row in rules.head(5).iterrows():\n",
    "    print(f\"If a customer buys {list(row['antecedents'])}, \"\n",
    "          f\"they are likely to also buy {list(row['consequents'])} \"\n",
    "          f\"with confidence {row['confidence']:.2f} and lift {row['lift']:.2f}.\")\n"
   ]
  },
  {
   "cell_type": "code",
   "execution_count": null,
   "id": "6105e7f2-1086-4551-bcd2-43b26b92cd89",
   "metadata": {},
   "outputs": [],
   "source": [
    "#interview questions\n",
    "\n",
    "1.lift:-Ratio of observed support to expected when a and b are independent,indicates strength of rule over random co-occurrence\n",
    "lift[x-->y] =support_XY / (support_X * support_Y)"
   ]
  },
  {
   "cell_type": "markdown",
   "id": "433d6a5c-f638-4b16-b490-296daa858d54",
   "metadata": {},
   "source": [
    "lift[x-->y] =support_XY / (support_X * support_Y)"
   ]
  },
  {
   "cell_type": "code",
   "execution_count": null,
   "id": "14ed86e1-e91e-41a9-9cfb-a81383214000",
   "metadata": {},
   "outputs": [],
   "source": [
    "lift is imp in association rules because to normalizes confidence by expected frequency and tells positively,negatively associated\n",
    "without lift we make small mistakes.\n",
    "lift > 1 positive association\n",
    "lift < 1 negative association\n",
    "lift = 1 no association\n",
    "helps in decision making,measures strength."
   ]
  },
  {
   "cell_type": "code",
   "execution_count": null,
   "id": "1d548e5e-8e72-48eb-8987-15891fcef717",
   "metadata": {},
   "outputs": [],
   "source": [
    "2.support:- transaction in database in which items appears.it shows frequently item appear in data set\n",
    "support(A) = number of transaction containing A/ total number of transactions \n",
    "confidence:- rule is correct for a new transaction containing the antecedent.\n"
   ]
  },
  {
   "cell_type": "markdown",
   "id": "8cab792a-0654-4bf6-9c8b-1e3018a1a0d7",
   "metadata": {},
   "source": [
    "# Confidence formula \n",
    "\n",
    "\n",
    "confidence = support_XY / support_X\n",
    "\n"
   ]
  },
  {
   "cell_type": "code",
   "execution_count": 71,
   "id": "a92796f6-ff4e-4794-8882-6023a170dc53",
   "metadata": {},
   "outputs": [
    {
     "name": "stdout",
     "output_type": "stream",
     "text": [
      "Support(X): 0.2\n",
      "Support(X∪Y): 0.2\n",
      "Confidence(X→Y): 1.0\n"
     ]
    }
   ],
   "source": [
    "# Ex:\n",
    "transactions = [\n",
    "    ['milk', 'bread', 'butter'],\n",
    "    ['bread', 'butter'],\n",
    "    ['milk', 'bread'],\n",
    "    ['milk', 'bread', 'butter', 'eggs'],\n",
    "    ['bread', 'eggs']\n",
    "]\n",
    "\n",
    "X = {'butter', 'eggs'}\n",
    "Y = {'milk', 'bread'}\n",
    "total = len(transactions)\n",
    "count_X = sum(1 for t in transactions if X.issubset(t))\n",
    "count_XY = sum(1 for t in transactions if X.union(Y).issubset(t))\n",
    "# Support\n",
    "support_X = count_X / total\n",
    "support_XY = count_XY / total\n",
    "# Confidence\n",
    "confidence = support_XY / support_X if support_X > 0 else 0\n",
    "print(\"Support(X):\", support_X)\n",
    "print(\"Support(X∪Y):\", support_XY)\n",
    "print(\"Confidence(X→Y):\", confidence)"
   ]
  },
  {
   "cell_type": "code",
   "execution_count": null,
   "id": "e710e1a8-c618-4c0d-9bb3-71fa18834501",
   "metadata": {},
   "outputs": [],
   "source": [
    "3.challenges of association rules mining:- high computation cost on large datasets.\n",
    "practical difficulties when applying in real life.\n",
    "many rules associated,making analysis hard.\n",
    "it weakness of association rule mining things the method cannot easily handle by design."
   ]
  }
 ],
 "metadata": {
  "kernelspec": {
   "display_name": "Python 3 (ipykernel)",
   "language": "python",
   "name": "python3"
  },
  "language_info": {
   "codemirror_mode": {
    "name": "ipython",
    "version": 3
   },
   "file_extension": ".py",
   "mimetype": "text/x-python",
   "name": "python",
   "nbconvert_exporter": "python",
   "pygments_lexer": "ipython3",
   "version": "3.13.5"
  }
 },
 "nbformat": 4,
 "nbformat_minor": 5
}
